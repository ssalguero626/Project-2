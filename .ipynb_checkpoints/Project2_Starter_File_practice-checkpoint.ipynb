{
 "cells": [
  {
   "cell_type": "code",
   "execution_count": 2,
   "metadata": {},
   "outputs": [],
   "source": [
    "import pandas as pd\n",
    "from sqlalchemy import create_engine\n",
    "from pgadmin_pw import pw\n"
   ]
  },
  {
   "cell_type": "code",
   "execution_count": 5,
   "metadata": {},
   "outputs": [],
   "source": [
    "# Read in Data\n",
    "\n",
    "nyc_311_calls = \"./Resources/311_service_requests_4Q19.csv\"\n"
   ]
  },
  {
   "cell_type": "code",
   "execution_count": 7,
   "metadata": {},
   "outputs": [
    {
     "data": {
      "text/html": [
       "<div>\n",
       "<style scoped>\n",
       "    .dataframe tbody tr th:only-of-type {\n",
       "        vertical-align: middle;\n",
       "    }\n",
       "\n",
       "    .dataframe tbody tr th {\n",
       "        vertical-align: top;\n",
       "    }\n",
       "\n",
       "    .dataframe thead th {\n",
       "        text-align: right;\n",
       "    }\n",
       "</style>\n",
       "<table border=\"1\" class=\"dataframe\">\n",
       "  <thead>\n",
       "    <tr style=\"text-align: right;\">\n",
       "      <th></th>\n",
       "      <th>Unique_Key</th>\n",
       "      <th>Created_Date</th>\n",
       "      <th>Closed_Date</th>\n",
       "      <th>Agency</th>\n",
       "      <th>Agency_Name</th>\n",
       "      <th>Complaint_Type</th>\n",
       "      <th>Location_Type</th>\n",
       "      <th>Incident_Zip</th>\n",
       "      <th>City</th>\n",
       "      <th>Status</th>\n",
       "      <th>Borough</th>\n",
       "      <th>Latitude</th>\n",
       "      <th>Longitude</th>\n",
       "    </tr>\n",
       "  </thead>\n",
       "  <tbody>\n",
       "    <tr>\n",
       "      <th>0</th>\n",
       "      <td>43861543</td>\n",
       "      <td>2019-09-22T11:38:12.000</td>\n",
       "      <td>NaN</td>\n",
       "      <td>DPR</td>\n",
       "      <td>Department of Parks and Recreation</td>\n",
       "      <td>Damaged Tree</td>\n",
       "      <td>Street</td>\n",
       "      <td>11362</td>\n",
       "      <td>LITTLE NECK</td>\n",
       "      <td>In Progress</td>\n",
       "      <td>QUEENS</td>\n",
       "      <td>40.757501</td>\n",
       "      <td>-73.731130</td>\n",
       "    </tr>\n",
       "    <tr>\n",
       "      <th>1</th>\n",
       "      <td>43867439</td>\n",
       "      <td>2019-09-22T11:38:28.000</td>\n",
       "      <td>2019-09-22T12:16:31.000</td>\n",
       "      <td>NYPD</td>\n",
       "      <td>New York City Police Department</td>\n",
       "      <td>Noise - Residential</td>\n",
       "      <td>Residential Building/House</td>\n",
       "      <td>11207</td>\n",
       "      <td>BROOKLYN</td>\n",
       "      <td>Closed</td>\n",
       "      <td>BROOKLYN</td>\n",
       "      <td>40.658186</td>\n",
       "      <td>-73.880636</td>\n",
       "    </tr>\n",
       "    <tr>\n",
       "      <th>2</th>\n",
       "      <td>43868018</td>\n",
       "      <td>2019-09-22T11:39:20.000</td>\n",
       "      <td>NaN</td>\n",
       "      <td>TLC</td>\n",
       "      <td>Taxi and Limousine Commission</td>\n",
       "      <td>For Hire Vehicle Complaint</td>\n",
       "      <td>NaN</td>\n",
       "      <td>10013</td>\n",
       "      <td>NEW YORK</td>\n",
       "      <td>In Progress</td>\n",
       "      <td>MANHATTAN</td>\n",
       "      <td>40.724282</td>\n",
       "      <td>-74.007840</td>\n",
       "    </tr>\n",
       "    <tr>\n",
       "      <th>3</th>\n",
       "      <td>43865372</td>\n",
       "      <td>2019-09-22T11:39:25.000</td>\n",
       "      <td>2019-09-26T13:02:49.000</td>\n",
       "      <td>DPR</td>\n",
       "      <td>Department of Parks and Recreation</td>\n",
       "      <td>Overgrown Tree/Branches</td>\n",
       "      <td>Street</td>\n",
       "      <td>10467</td>\n",
       "      <td>BRONX</td>\n",
       "      <td>Closed</td>\n",
       "      <td>BRONX</td>\n",
       "      <td>40.879794</td>\n",
       "      <td>-73.883435</td>\n",
       "    </tr>\n",
       "    <tr>\n",
       "      <th>4</th>\n",
       "      <td>43863796</td>\n",
       "      <td>2019-09-22T11:39:38.000</td>\n",
       "      <td>2019-09-22T20:09:28.000</td>\n",
       "      <td>NYPD</td>\n",
       "      <td>New York City Police Department</td>\n",
       "      <td>Blocked Driveway</td>\n",
       "      <td>Street/Sidewalk</td>\n",
       "      <td>11416</td>\n",
       "      <td>OZONE PARK</td>\n",
       "      <td>Closed</td>\n",
       "      <td>QUEENS</td>\n",
       "      <td>40.681553</td>\n",
       "      <td>-73.850258</td>\n",
       "    </tr>\n",
       "  </tbody>\n",
       "</table>\n",
       "</div>"
      ],
      "text/plain": [
       "   Unique_Key             Created_Date              Closed_Date Agency  \\\n",
       "0    43861543  2019-09-22T11:38:12.000                      NaN    DPR   \n",
       "1    43867439  2019-09-22T11:38:28.000  2019-09-22T12:16:31.000   NYPD   \n",
       "2    43868018  2019-09-22T11:39:20.000                      NaN    TLC   \n",
       "3    43865372  2019-09-22T11:39:25.000  2019-09-26T13:02:49.000    DPR   \n",
       "4    43863796  2019-09-22T11:39:38.000  2019-09-22T20:09:28.000   NYPD   \n",
       "\n",
       "                          Agency_Name              Complaint_Type  \\\n",
       "0  Department of Parks and Recreation                Damaged Tree   \n",
       "1     New York City Police Department         Noise - Residential   \n",
       "2       Taxi and Limousine Commission  For Hire Vehicle Complaint   \n",
       "3  Department of Parks and Recreation     Overgrown Tree/Branches   \n",
       "4     New York City Police Department            Blocked Driveway   \n",
       "\n",
       "                Location_Type  Incident_Zip         City       Status  \\\n",
       "0                      Street         11362  LITTLE NECK  In Progress   \n",
       "1  Residential Building/House         11207     BROOKLYN       Closed   \n",
       "2                         NaN         10013     NEW YORK  In Progress   \n",
       "3                      Street         10467        BRONX       Closed   \n",
       "4             Street/Sidewalk         11416   OZONE PARK       Closed   \n",
       "\n",
       "     Borough   Latitude  Longitude  \n",
       "0     QUEENS  40.757501 -73.731130  \n",
       "1   BROOKLYN  40.658186 -73.880636  \n",
       "2  MANHATTAN  40.724282 -74.007840  \n",
       "3      BRONX  40.879794 -73.883435  \n",
       "4     QUEENS  40.681553 -73.850258  "
      ]
     },
     "execution_count": 7,
     "metadata": {},
     "output_type": "execute_result"
    }
   ],
   "source": [
    "nyc_311_calls_df=pd.read_csv(nyc_311_calls)\n",
    "\n",
    "nyc_311_calls_df.head()"
   ]
  },
  {
   "cell_type": "code",
   "execution_count": 8,
   "metadata": {},
   "outputs": [
    {
     "data": {
      "text/plain": [
       "0          DPR\n",
       "1         NYPD\n",
       "2          TLC\n",
       "3          DPR\n",
       "4         NYPD\n",
       "          ... \n",
       "204267    NYPD\n",
       "204268    NYPD\n",
       "204269    NYPD\n",
       "204270    NYPD\n",
       "204271     DOT\n",
       "Name: Agency, Length: 204272, dtype: object"
      ]
     },
     "execution_count": 8,
     "metadata": {},
     "output_type": "execute_result"
    }
   ],
   "source": [
    "nyc_311_calls_df['Agency']"
   ]
  },
  {
   "cell_type": "code",
   "execution_count": 9,
   "metadata": {},
   "outputs": [
    {
     "data": {
      "text/plain": [
       "NYPD     84222\n",
       "HPD      47109\n",
       "DOT      18104\n",
       "DEP      14463\n",
       "DSNY      9575\n",
       "DOB       8869\n",
       "DPR       6666\n",
       "TLC       5753\n",
       "DOHMH     5057\n",
       "DHS       2695\n",
       "DCA       1066\n",
       "EDC        519\n",
       "DOE        151\n",
       "DOITT       23\n",
       "Name: Agency, dtype: int64"
      ]
     },
     "execution_count": 9,
     "metadata": {},
     "output_type": "execute_result"
    }
   ],
   "source": [
    "nyc_311_calls_df['Agency'].value_counts()"
   ]
  },
  {
   "cell_type": "code",
   "execution_count": 10,
   "metadata": {},
   "outputs": [
    {
     "data": {
      "text/plain": [
       "HEAT/HOT WATER             33805\n",
       "Noise - Residential        24273\n",
       "Illegal Parking            20635\n",
       "Blocked Driveway           15141\n",
       "Noise - Street/Sidewalk     6765\n",
       "                           ...  \n",
       "Vacant Lot                     1\n",
       "Illegal Animal Sold            1\n",
       "Ferry Complaint                1\n",
       "DEP Sidewalk Condition         1\n",
       "Ferry Inquiry                  1\n",
       "Name: Complaint_Type, Length: 148, dtype: int64"
      ]
     },
     "execution_count": 10,
     "metadata": {},
     "output_type": "execute_result"
    }
   ],
   "source": [
    "nyc_311_calls_df['Complaint_Type'].value_counts()"
   ]
  },
  {
   "cell_type": "code",
   "execution_count": 11,
   "metadata": {},
   "outputs": [
    {
     "data": {
      "text/plain": [
       "BROOKLYN         61744\n",
       "QUEENS           49415\n",
       "MANHATTAN        46721\n",
       "BRONX            37440\n",
       "STATEN ISLAND     8933\n",
       "Unspecified         19\n",
       "Name: Borough, dtype: int64"
      ]
     },
     "execution_count": 11,
     "metadata": {},
     "output_type": "execute_result"
    }
   ],
   "source": [
    "nyc_311_calls_df['Borough'].value_counts()"
   ]
  },
  {
   "cell_type": "code",
   "execution_count": null,
   "metadata": {},
   "outputs": [],
   "source": []
  }
 ],
 "metadata": {
  "kernelspec": {
   "display_name": "Python 3",
   "language": "python",
   "name": "python3"
  },
  "language_info": {
   "codemirror_mode": {
    "name": "ipython",
    "version": 3
   },
   "file_extension": ".py",
   "mimetype": "text/x-python",
   "name": "python",
   "nbconvert_exporter": "python",
   "pygments_lexer": "ipython3",
   "version": "3.7.6"
  }
 },
 "nbformat": 4,
 "nbformat_minor": 4
}
